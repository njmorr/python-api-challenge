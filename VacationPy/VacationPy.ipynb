{
 "cells": [
  {
   "cell_type": "markdown",
   "metadata": {},
   "source": [
    "# VacationPy\n",
    "----\n",
    "\n",
    "#### Note\n",
    "* Keep an eye on your API usage. Use https://developers.google.com/maps/reporting/gmp-reporting as reference for how to monitor your usage and billing.\n",
    "\n",
    "* Instructions have been included for each segment. You do not have to follow them exactly, but they are included to help you think through the steps."
   ]
  },
  {
   "cell_type": "code",
   "execution_count": 4,
   "metadata": {},
   "outputs": [],
   "source": [
    "# Dependencies and Setup\n",
    "import matplotlib.pyplot as plt\n",
    "import pandas as pd\n",
    "import numpy as np\n",
    "import requests\n",
    "import gmaps\n",
    "import os\n",
    "\n",
    "# Import API key\n",
    "from config import gkey"
   ]
  },
  {
   "cell_type": "markdown",
   "metadata": {},
   "source": [
    "### Store Part I results into DataFrame\n",
    "* Load the csv exported in Part I to a DataFrame"
   ]
  },
  {
   "cell_type": "code",
   "execution_count": 41,
   "metadata": {
    "scrolled": true
   },
   "outputs": [
    {
     "data": {
      "text/plain": [
       "City                 object\n",
       "Temperature (F)     float64\n",
       "Humidity (%)          int64\n",
       "Clouds(% Cloudy)      int64\n",
       "Windspeed (mph)     float64\n",
       "Latitude            float64\n",
       "Longitude           float64\n",
       "Country              object\n",
       "Date-Time             int64\n",
       "dtype: object"
      ]
     },
     "execution_count": 41,
     "metadata": {},
     "output_type": "execute_result"
    }
   ],
   "source": [
    "weather_file = '../WeatherPy/output_data/cities.csv'\n",
    "weather_df = pd.read_csv(weather_file)\n",
    "weather_df.dtypes"
   ]
  },
  {
   "cell_type": "markdown",
   "metadata": {},
   "source": [
    "### Humidity Heatmap\n",
    "* Configure gmaps.\n",
    "* Use the Lat and Lng as locations and Humidity as the weight.\n",
    "* Add Heatmap layer to map."
   ]
  },
  {
   "cell_type": "code",
   "execution_count": 6,
   "metadata": {},
   "outputs": [],
   "source": [
    "# Configure gmaps with API key\n",
    "gmaps.configure(api_key=gkey)"
   ]
  },
  {
   "cell_type": "code",
   "execution_count": 42,
   "metadata": {},
   "outputs": [],
   "source": [
    "locations = weather_df[[\"Latitude\",\"Longitude\"]].astype(float)\n",
    "humidity = weather_df[\"Humidity (%)\"].astype(float)"
   ]
  },
  {
   "cell_type": "code",
   "execution_count": 28,
   "metadata": {},
   "outputs": [
    {
     "data": {
      "application/vnd.jupyter.widget-view+json": {
       "model_id": "8974d13d4c994d9d8787c516f6a24f84",
       "version_major": 2,
       "version_minor": 0
      },
      "text/plain": [
       "Figure(layout=FigureLayout(height='420px'))"
      ]
     },
     "metadata": {},
     "output_type": "display_data"
    }
   ],
   "source": [
    "fig = gmaps.figure(center=(20,0),zoom_level=1.75)\n",
    "\n",
    "heat_layer = gmaps.heatmap_layer(locations, weights=humidity, \n",
    "                                 dissipating=False, max_intensity=100,\n",
    "                                 point_radius = 3)\n",
    "\n",
    "fig.add_layer(heat_layer)\n",
    "\n",
    "fig"
   ]
  },
  {
   "cell_type": "markdown",
   "metadata": {},
   "source": [
    "### Create new DataFrame fitting weather criteria\n",
    "* Narrow down the cities to fit weather conditions.\n",
    "* Drop any rows will null values."
   ]
  },
  {
   "cell_type": "code",
   "execution_count": 52,
   "metadata": {},
   "outputs": [
    {
     "data": {
      "text/html": [
       "<div>\n",
       "<style scoped>\n",
       "    .dataframe tbody tr th:only-of-type {\n",
       "        vertical-align: middle;\n",
       "    }\n",
       "\n",
       "    .dataframe tbody tr th {\n",
       "        vertical-align: top;\n",
       "    }\n",
       "\n",
       "    .dataframe thead th {\n",
       "        text-align: right;\n",
       "    }\n",
       "</style>\n",
       "<table border=\"1\" class=\"dataframe\">\n",
       "  <thead>\n",
       "    <tr style=\"text-align: right;\">\n",
       "      <th></th>\n",
       "      <th>City</th>\n",
       "      <th>Temperature (F)</th>\n",
       "      <th>Humidity (%)</th>\n",
       "      <th>Clouds(% Cloudy)</th>\n",
       "      <th>Windspeed (mph)</th>\n",
       "      <th>Latitude</th>\n",
       "      <th>Longitude</th>\n",
       "      <th>Country</th>\n",
       "      <th>Date-Time</th>\n",
       "    </tr>\n",
       "  </thead>\n",
       "  <tbody>\n",
       "    <tr>\n",
       "      <th>26</th>\n",
       "      <td>manutuke</td>\n",
       "      <td>72.00</td>\n",
       "      <td>61</td>\n",
       "      <td>10</td>\n",
       "      <td>3.00</td>\n",
       "      <td>-38.6833</td>\n",
       "      <td>177.9167</td>\n",
       "      <td>NZ</td>\n",
       "      <td>1612734031</td>\n",
       "    </tr>\n",
       "    <tr>\n",
       "      <th>36</th>\n",
       "      <td>gwadar</td>\n",
       "      <td>65.43</td>\n",
       "      <td>56</td>\n",
       "      <td>0</td>\n",
       "      <td>6.64</td>\n",
       "      <td>25.1216</td>\n",
       "      <td>62.3254</td>\n",
       "      <td>PK</td>\n",
       "      <td>1612734043</td>\n",
       "    </tr>\n",
       "    <tr>\n",
       "      <th>42</th>\n",
       "      <td>hilo</td>\n",
       "      <td>75.49</td>\n",
       "      <td>50</td>\n",
       "      <td>1</td>\n",
       "      <td>3.44</td>\n",
       "      <td>19.7297</td>\n",
       "      <td>-155.0900</td>\n",
       "      <td>US</td>\n",
       "      <td>1612733521</td>\n",
       "    </tr>\n",
       "    <tr>\n",
       "      <th>78</th>\n",
       "      <td>kapaa</td>\n",
       "      <td>74.32</td>\n",
       "      <td>56</td>\n",
       "      <td>1</td>\n",
       "      <td>3.44</td>\n",
       "      <td>22.0752</td>\n",
       "      <td>-159.3190</td>\n",
       "      <td>US</td>\n",
       "      <td>1612733619</td>\n",
       "    </tr>\n",
       "    <tr>\n",
       "      <th>206</th>\n",
       "      <td>chai badan</td>\n",
       "      <td>75.70</td>\n",
       "      <td>65</td>\n",
       "      <td>0</td>\n",
       "      <td>1.05</td>\n",
       "      <td>15.2000</td>\n",
       "      <td>101.1333</td>\n",
       "      <td>TH</td>\n",
       "      <td>1612734243</td>\n",
       "    </tr>\n",
       "    <tr>\n",
       "      <th>287</th>\n",
       "      <td>la palma</td>\n",
       "      <td>66.85</td>\n",
       "      <td>51</td>\n",
       "      <td>1</td>\n",
       "      <td>3.44</td>\n",
       "      <td>33.8464</td>\n",
       "      <td>-118.0467</td>\n",
       "      <td>US</td>\n",
       "      <td>1612734331</td>\n",
       "    </tr>\n",
       "    <tr>\n",
       "      <th>302</th>\n",
       "      <td>tacuarembo</td>\n",
       "      <td>79.38</td>\n",
       "      <td>51</td>\n",
       "      <td>0</td>\n",
       "      <td>3.94</td>\n",
       "      <td>-31.7333</td>\n",
       "      <td>-55.9833</td>\n",
       "      <td>UY</td>\n",
       "      <td>1612734357</td>\n",
       "    </tr>\n",
       "    <tr>\n",
       "      <th>317</th>\n",
       "      <td>makakilo city</td>\n",
       "      <td>77.40</td>\n",
       "      <td>41</td>\n",
       "      <td>1</td>\n",
       "      <td>6.91</td>\n",
       "      <td>21.3469</td>\n",
       "      <td>-158.0858</td>\n",
       "      <td>US</td>\n",
       "      <td>1612734077</td>\n",
       "    </tr>\n",
       "    <tr>\n",
       "      <th>343</th>\n",
       "      <td>dourados</td>\n",
       "      <td>72.27</td>\n",
       "      <td>70</td>\n",
       "      <td>0</td>\n",
       "      <td>3.11</td>\n",
       "      <td>-22.2211</td>\n",
       "      <td>-54.8056</td>\n",
       "      <td>BR</td>\n",
       "      <td>1612734406</td>\n",
       "    </tr>\n",
       "    <tr>\n",
       "      <th>364</th>\n",
       "      <td>cananeia</td>\n",
       "      <td>74.37</td>\n",
       "      <td>67</td>\n",
       "      <td>0</td>\n",
       "      <td>5.99</td>\n",
       "      <td>-25.0147</td>\n",
       "      <td>-47.9267</td>\n",
       "      <td>BR</td>\n",
       "      <td>1612734431</td>\n",
       "    </tr>\n",
       "  </tbody>\n",
       "</table>\n",
       "</div>"
      ],
      "text/plain": [
       "              City  Temperature (F)  Humidity (%)  Clouds(% Cloudy)  \\\n",
       "26        manutuke            72.00            61                10   \n",
       "36          gwadar            65.43            56                 0   \n",
       "42            hilo            75.49            50                 1   \n",
       "78           kapaa            74.32            56                 1   \n",
       "206     chai badan            75.70            65                 0   \n",
       "287       la palma            66.85            51                 1   \n",
       "302     tacuarembo            79.38            51                 0   \n",
       "317  makakilo city            77.40            41                 1   \n",
       "343       dourados            72.27            70                 0   \n",
       "364       cananeia            74.37            67                 0   \n",
       "\n",
       "     Windspeed (mph)  Latitude  Longitude Country   Date-Time  \n",
       "26              3.00  -38.6833   177.9167      NZ  1612734031  \n",
       "36              6.64   25.1216    62.3254      PK  1612734043  \n",
       "42              3.44   19.7297  -155.0900      US  1612733521  \n",
       "78              3.44   22.0752  -159.3190      US  1612733619  \n",
       "206             1.05   15.2000   101.1333      TH  1612734243  \n",
       "287             3.44   33.8464  -118.0467      US  1612734331  \n",
       "302             3.94  -31.7333   -55.9833      UY  1612734357  \n",
       "317             6.91   21.3469  -158.0858      US  1612734077  \n",
       "343             3.11  -22.2211   -54.8056      BR  1612734406  \n",
       "364             5.99  -25.0147   -47.9267      BR  1612734431  "
      ]
     },
     "execution_count": 52,
     "metadata": {},
     "output_type": "execute_result"
    }
   ],
   "source": [
    "perfect_destination = weather_df.loc[(weather_df[\"Temperature (F)\"] < 80) & (weather_df[\"Temperature (F)\"] > 65) \n",
    "                                     & (weather_df[\"Humidity (%)\"] > 40) & (weather_df[\"Humidity (%)\"] < 75)\n",
    "                                     & (weather_df[\"Windspeed (mph)\"] < 7) & (weather_df[\"Clouds(% Cloudy)\"] < 25)]\n",
    "perfect_destination"
   ]
  },
  {
   "cell_type": "markdown",
   "metadata": {},
   "source": [
    "### Hotel Map\n",
    "* Store into variable named `hotel_df`.\n",
    "* Add a \"Hotel Name\" column to the DataFrame.\n",
    "* Set parameters to search for hotels with 5000 meters.\n",
    "* Hit the Google Places API for each city's coordinates.\n",
    "* Store the first Hotel result into the DataFrame.\n",
    "* Plot markers on top of the heatmap."
   ]
  },
  {
   "cell_type": "code",
   "execution_count": null,
   "metadata": {},
   "outputs": [],
   "source": []
  },
  {
   "cell_type": "code",
   "execution_count": null,
   "metadata": {},
   "outputs": [],
   "source": []
  },
  {
   "cell_type": "code",
   "execution_count": null,
   "metadata": {},
   "outputs": [],
   "source": [
    "# NOTE: Do not change any of the code in this cell\n",
    "\n",
    "# Using the template add the hotel marks to the heatmap\n",
    "info_box_template = \"\"\"\n",
    "<dl>\n",
    "<dt>Name</dt><dd>{Hotel Name}</dd>\n",
    "<dt>City</dt><dd>{City}</dd>\n",
    "<dt>Country</dt><dd>{Country}</dd>\n",
    "</dl>\n",
    "\"\"\"\n",
    "# Store the DataFrame Row\n",
    "# NOTE: be sure to update with your DataFrame name\n",
    "hotel_info = [info_box_template.format(**row) for index, row in hotel_df.iterrows()]\n",
    "locations = hotel_df[[\"Lat\", \"Lng\"]]"
   ]
  },
  {
   "cell_type": "code",
   "execution_count": null,
   "metadata": {},
   "outputs": [],
   "source": [
    "# Add marker layer ontop of heat map\n",
    "\n",
    "\n",
    "# Display figure\n"
   ]
  },
  {
   "cell_type": "code",
   "execution_count": null,
   "metadata": {},
   "outputs": [],
   "source": []
  }
 ],
 "metadata": {
  "kernelspec": {
   "display_name": "Python 3",
   "language": "python",
   "name": "python3"
  },
  "language_info": {
   "codemirror_mode": {
    "name": "ipython",
    "version": 3
   },
   "file_extension": ".py",
   "mimetype": "text/x-python",
   "name": "python",
   "nbconvert_exporter": "python",
   "pygments_lexer": "ipython3",
   "version": "3.6.10"
  },
  "latex_envs": {
   "LaTeX_envs_menu_present": true,
   "autoclose": false,
   "autocomplete": true,
   "bibliofile": "biblio.bib",
   "cite_by": "apalike",
   "current_citInitial": 1,
   "eqLabelWithNumbers": true,
   "eqNumInitial": 1,
   "hotkeys": {
    "equation": "Ctrl-E",
    "itemize": "Ctrl-I"
   },
   "labels_anchors": false,
   "latex_user_defs": false,
   "report_style_numbering": false,
   "user_envs_cfg": false
  }
 },
 "nbformat": 4,
 "nbformat_minor": 4
}
